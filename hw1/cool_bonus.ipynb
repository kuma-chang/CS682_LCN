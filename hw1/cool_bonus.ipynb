{
 "cells": [
  {
   "cell_type": "markdown",
   "id": "4aa9d108",
   "metadata": {},
   "source": [
    "# Cool Bonus: Dynamic Mini-batch\n",
    "\n",
    "This is mainly testing a question I had during class.\n",
    "Which would having different batch sizes during the training help improve the process?\n",
    "Since in class the batch size was always the same during the same training, I wanted to test out whether having three different batch-size(small, medium, large) had any effect.\n",
    "\n",
    "\n",
    "The specific question I wish to answer in the following experient are:\n",
    "- Would a dynamic batch be faster than a large or slower than a small batch-size? If so, by how much?\n",
    "- Would a dynamic batch have a better than a small or worse than a large batch-size? If so, by how much?\n",
    "\n",
    "\n",
    "\n"
   ]
  },
  {
   "cell_type": "code",
   "execution_count": 1,
   "id": "20e1eb22",
   "metadata": {},
   "outputs": [],
   "source": [
    "# Run some setup code for this notebook.\n",
    "from __future__ import print_function\n",
    "import random\n",
    "import numpy as np\n",
    "from cs682.data_utils import load_CIFAR10\n",
    "import matplotlib.pyplot as plt\n",
    "\n",
    "\n",
    "# This is a bit of magic to make matplotlib figures appear inline in the\n",
    "# notebook rather than in a new window.\n",
    "%matplotlib inline\n",
    "plt.rcParams['figure.figsize'] = (10.0, 8.0) # set default size of plots\n",
    "plt.rcParams['image.interpolation'] = 'nearest'\n",
    "plt.rcParams['image.cmap'] = 'gray'\n",
    "\n",
    "# Some more magic so that the notebook will reload external python modules;\n",
    "# see http://stackoverflow.com/questions/1907993/autoreload-of-modules-in-ipython\n",
    "%load_ext autoreload\n",
    "%autoreload 2"
   ]
  },
  {
   "cell_type": "markdown",
   "id": "eae9edbc",
   "metadata": {},
   "source": [
    "## CIFAR-10 Data Loading and Preprocessing"
   ]
  },
  {
   "cell_type": "code",
   "execution_count": 2,
   "id": "a717ab9c",
   "metadata": {},
   "outputs": [
    {
     "name": "stdout",
     "output_type": "stream",
     "text": [
      "Train data shape:  (49000, 3073)\n",
      "Train labels shape:  (49000,)\n",
      "Validation data shape:  (1000, 3073)\n",
      "Validation labels shape:  (1000,)\n",
      "Test data shape:  (1000, 3073)\n",
      "Test labels shape:  (1000,)\n",
      "dev data shape:  (500, 3073)\n",
      "dev labels shape:  (500,)\n"
     ]
    }
   ],
   "source": [
    "def get_CIFAR10_data(num_training=49000, num_validation=1000, num_test=1000, num_dev=500):\n",
    "    \"\"\"\n",
    "    Load the CIFAR-10 dataset from disk and perform preprocessing to prepare\n",
    "    it for the linear classifier. These are the same steps as we used for the\n",
    "    SVM, but condensed to a single function.  \n",
    "    \"\"\"\n",
    "    # Load the raw CIFAR-10 data\n",
    "    cifar10_dir = 'cs682/datasets/cifar-10-batches-py'\n",
    "    \n",
    "    X_train, y_train, X_test, y_test = load_CIFAR10(cifar10_dir)\n",
    "    \n",
    "    # subsample the data\n",
    "    mask = list(range(num_training, num_training + num_validation))\n",
    "    X_val = X_train[mask]\n",
    "    y_val = y_train[mask]\n",
    "    mask = list(range(num_training))\n",
    "    X_train = X_train[mask]\n",
    "    y_train = y_train[mask]\n",
    "    mask = list(range(num_test))\n",
    "    X_test = X_test[mask]\n",
    "    y_test = y_test[mask]\n",
    "    mask = np.random.choice(num_training, num_dev, replace=False)\n",
    "    X_dev = X_train[mask]\n",
    "    y_dev = y_train[mask]\n",
    "    \n",
    "    # Preprocessing: reshape the image data into rows\n",
    "    X_train = np.reshape(X_train, (X_train.shape[0], -1))\n",
    "    X_val = np.reshape(X_val, (X_val.shape[0], -1))\n",
    "    X_test = np.reshape(X_test, (X_test.shape[0], -1))\n",
    "    X_dev = np.reshape(X_dev, (X_dev.shape[0], -1))\n",
    "    \n",
    "    # Normalize the data: subtract the mean image\n",
    "    mean_image = np.mean(X_train, axis = 0)\n",
    "    X_train -= mean_image\n",
    "    X_val -= mean_image\n",
    "    X_test -= mean_image\n",
    "    X_dev -= mean_image\n",
    "    \n",
    "    # add bias dimension and transform into columns\n",
    "    X_train = np.hstack([X_train, np.ones((X_train.shape[0], 1))])\n",
    "    X_val = np.hstack([X_val, np.ones((X_val.shape[0], 1))])\n",
    "    X_test = np.hstack([X_test, np.ones((X_test.shape[0], 1))])\n",
    "    X_dev = np.hstack([X_dev, np.ones((X_dev.shape[0], 1))])\n",
    "    \n",
    "    return X_train, y_train, X_val, y_val, X_test, y_test, X_dev, y_dev\n",
    "\n",
    "\n",
    "# Cleaning up variables to prevent loading data multiple times (which may cause memory issue)\n",
    "try:\n",
    "   del X_train, y_train\n",
    "   del X_test, y_test\n",
    "   print('Clear previously loaded data.')\n",
    "except:\n",
    "   pass\n",
    "\n",
    "# Invoke the above function to get our data.\n",
    "X_train, y_train, X_val, y_val, X_test, y_test, X_dev, y_dev = get_CIFAR10_data()\n",
    "print('Train data shape: ', X_train.shape)\n",
    "print('Train labels shape: ', y_train.shape)\n",
    "print('Validation data shape: ', X_val.shape)\n",
    "print('Validation labels shape: ', y_val.shape)\n",
    "print('Test data shape: ', X_test.shape)\n",
    "print('Test labels shape: ', y_test.shape)\n",
    "print('dev data shape: ', X_dev.shape)\n",
    "print('dev labels shape: ', y_dev.shape)"
   ]
  },
  {
   "cell_type": "code",
   "execution_count": 7,
   "id": "d3656ca3",
   "metadata": {},
   "outputs": [
    {
     "name": "stdout",
     "output_type": "stream",
     "text": [
      "batch size 100 train accuracy: 0.378816 val accuracy: 0.379000 took 3.061827 seconds\n",
      "batch size 500 train accuracy: 0.388347 val accuracy: 0.395000 took 19.003340 seconds\n",
      "batch size [100, 300, 500] train accuracy: 0.387571 val accuracy: 0.386000 took 10.682829 seconds\n",
      "best validation accuracy achieved during cross-validation: 0.395000\n"
     ]
    }
   ],
   "source": [
    "from cs682.classifiers import LinearSVM\n",
    "import time\n",
    "\n",
    "results = {}\n",
    "best_val = -1\n",
    "best_svm = None\n",
    "batch_sizes = [100, [100, 300, 500], 500]\n",
    "\n",
    "for batch_size in batch_sizes:\n",
    "\n",
    "    tic = time.time()\n",
    "\n",
    "    svm = LinearSVM()\n",
    "    svm.train(X_train, y_train, batch_size=batch_size, learning_rate=1e-7, reg=1e4, num_iters=3000)\n",
    "    y_train_pred = svm.predict(X_train)\n",
    "    train_accuracy = np.mean(y_train == y_train_pred)\n",
    "    y_val_pred = svm.predict(X_val)\n",
    "    val_accuracy = np.mean(y_val == y_val_pred)\n",
    "\n",
    "    toc = time.time()\n",
    "    cost_time = toc-tic\n",
    "\n",
    "    results[str(batch_size)] = (train_accuracy, val_accuracy, cost_time)\n",
    "\n",
    "    if val_accuracy > best_val:\n",
    "        best_svm = svm\n",
    "        best_val = val_accuracy\n",
    "    \n",
    "\n",
    "# Print out results.\n",
    "for batch_size in sorted(results):\n",
    "    train_accuracy, val_accuracy, cost_time = results[str(batch_size)]\n",
    "    print('batch size %s train accuracy: %f val accuracy: %f took %f seconds' % (\n",
    "                batch_size, train_accuracy, val_accuracy, cost_time))\n",
    "    \n",
    "print('best validation accuracy achieved during cross-validation: %f' % best_val)"
   ]
  },
  {
   "cell_type": "code",
   "execution_count": 8,
   "id": "59b7086b",
   "metadata": {},
   "outputs": [
    {
     "name": "stdout",
     "output_type": "stream",
     "text": [
      "batch size 100 train accuracy: 0.359612 val accuracy: 0.367000 took 2.805386 seconds\n",
      "batch size 500 train accuracy: 0.360653 val accuracy: 0.373000 took 18.596788 seconds\n",
      "batch size [100, 300, 500] train accuracy: 0.362143 val accuracy: 0.384000 took 10.994250 seconds\n",
      "best validation accuracy achieved during cross-validation: 0.384000\n"
     ]
    }
   ],
   "source": [
    "from cs682.classifiers import Softmax\n",
    "import time\n",
    "\n",
    "results = {}\n",
    "best_val = -1\n",
    "best_softmax = None\n",
    "batch_sizes = [100, [100, 300, 500], 500]\n",
    "\n",
    "for batch_size in batch_sizes:\n",
    "\n",
    "    tic = time.time()\n",
    "\n",
    "    softmax = Softmax()\n",
    "    softmax.train(X_train, y_train, learning_rate=8e-8, reg=9e3, batch_size=batch_size, num_iters=3000)\n",
    "    y_train_pred = softmax.predict(X_train)\n",
    "    train_accuracy = np.mean(y_train == y_train_pred)\n",
    "    y_val_pred = softmax.predict(X_val)\n",
    "    val_accuracy = np.mean(y_val == y_val_pred)\n",
    "        \n",
    "    toc = time.time()\n",
    "    cost_time = toc-tic\n",
    "\n",
    "    results[str(batch_size)] = (train_accuracy, val_accuracy, cost_time)\n",
    "\n",
    "    if val_accuracy > best_val:\n",
    "        best_svm = svm\n",
    "        best_val = val_accuracy\n",
    "    \n",
    "\n",
    "# Print out results.\n",
    "for batch_size in sorted(results):\n",
    "    train_accuracy, val_accuracy, cost_time = results[str(batch_size)]\n",
    "    print('batch size %s train accuracy: %f val accuracy: %f took %f seconds' % (\n",
    "                batch_size, train_accuracy, val_accuracy, cost_time))\n",
    "    \n",
    "print('best validation accuracy achieved during cross-validation: %f' % best_val)\n"
   ]
  },
  {
   "cell_type": "markdown",
   "id": "17e40570",
   "metadata": {},
   "source": [
    "The results I got for both SVM and Softmax were interesting.\n",
    "\n",
    "Dynamic mini-batch was faster in both cases!\n",
    "However the val accuracy for Softmax seems the same as the small batch-size, while for SVM the dynamic mini-batch was much closer to large batch-size and only cost 4.87s when the large batch-size cost 8.02.\n",
    "\n",
    "I think it would definitely need more experiments to make sure of the benefits for dynamic mini-batch.\n",
    "But the result I got on SVM looks promising!"
   ]
  }
 ],
 "metadata": {
  "kernelspec": {
   "display_name": "Python 3",
   "language": "python",
   "name": "python3"
  },
  "language_info": {
   "codemirror_mode": {
    "name": "ipython",
    "version": 3
   },
   "file_extension": ".py",
   "mimetype": "text/x-python",
   "name": "python",
   "nbconvert_exporter": "python",
   "pygments_lexer": "ipython3",
   "version": "3.6.13"
  }
 },
 "nbformat": 4,
 "nbformat_minor": 5
}
