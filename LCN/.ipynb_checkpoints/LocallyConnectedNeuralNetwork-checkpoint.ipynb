{
 "cells": [
  {
   "cell_type": "markdown",
   "id": "75884e92",
   "metadata": {},
   "source": [
    "# Locally Connected Neural Network\n",
    "\n",
    "Our Final Project\n"
   ]
  },
  {
   "cell_type": "code",
   "execution_count": 1,
   "id": "7553c412",
   "metadata": {},
   "outputs": [],
   "source": [
    "#Use the setup that were given in assignment2/ConolutionNetworks\n",
    "import numpy as np\n",
    "import matplotlib.pyplot as plt\n",
    "from cs682.classifiers.cnn import *\n",
    "from cs682.data_utils import get_CIFAR10_data\n",
    "from cs682.gradient_check import eval_numerical_gradient_array, eval_numerical_gradient\n",
    "from cs682.layers import *\n",
    "from cs682.fast_layers import *\n",
    "from cs682.solver import Solver\n",
    "\n",
    "%matplotlib inline\n",
    "plt.rcParams['figure.figsize'] = (10.0, 8.0) # set default size of plots\n",
    "plt.rcParams['image.interpolation'] = 'nearest'\n",
    "plt.rcParams['image.cmap'] = 'gray'\n",
    "\n",
    "# for auto-reloading external modules\n",
    "# see http://stackoverflow.com/questions/1907993/autoreload-of-modules-in-ipython\n",
    "%load_ext autoreload\n",
    "%autoreload 2\n",
    "\n",
    "def rel_error(x, y):\n",
    "  \"\"\" returns relative error \"\"\"\n",
    "  return np.max(np.abs(x - y) / (np.maximum(1e-8, np.abs(x) + np.abs(y))))"
   ]
  },
  {
   "cell_type": "code",
   "execution_count": 2,
   "id": "097432db",
   "metadata": {},
   "outputs": [
    {
     "name": "stdout",
     "output_type": "stream",
     "text": [
      "X_train:  (49000, 3, 32, 32)\n",
      "y_train:  (49000,)\n",
      "X_val:  (1000, 3, 32, 32)\n",
      "y_val:  (1000,)\n",
      "X_test:  (1000, 3, 32, 32)\n",
      "y_test:  (1000,)\n"
     ]
    }
   ],
   "source": [
    "# Load the (preprocessed) CIFAR10 data.\n",
    "\n",
    "data = get_CIFAR10_data()\n",
    "for k, v in data.items():\n",
    "  print('%s: ' % k, v.shape)"
   ]
  },
  {
   "cell_type": "code",
   "execution_count": 3,
   "id": "d6e5d66b",
   "metadata": {},
   "outputs": [],
   "source": [
    "#Import the layer and net work we implimented\n",
    "from lcn import *\n",
    "from lc_fc_net import *"
   ]
  },
  {
   "cell_type": "markdown",
   "id": "fe64aaf3",
   "metadata": {},
   "source": [
    "# Locally Connected Neural Network: Naive forward pass"
   ]
  },
  {
   "cell_type": "code",
   "execution_count": 7,
   "id": "a9734568",
   "metadata": {},
   "outputs": [
    {
     "name": "stdout",
     "output_type": "stream",
     "text": [
      "(2, 2, 2, 2)\n"
     ]
    }
   ],
   "source": [
    "x_shape = (2, 3, 5, 5)\n",
    "w_shape = (2, 75, 2, 2)\n",
    "x = np.linspace(-0.1, 0.5, num=np.prod(x_shape)).reshape(x_shape)\n",
    "w = np.linspace(-0.2, 0.3, num=np.prod(w_shape)).reshape(w_shape)\n",
    "b = np.linspace(-0.1, 0.2, num=3)\n",
    "\n",
    "\n",
    "lcn_param = {'center_dist': 1}\n",
    "out, _ = lcn_forward(x, w, b, lcn_param)\n",
    "\n",
    "print(out.shape)\n"
   ]
  },
  {
   "cell_type": "code",
   "execution_count": null,
   "id": "dccbc002",
   "metadata": {},
   "outputs": [],
   "source": []
  },
  {
   "cell_type": "code",
   "execution_count": 12,
   "id": "589cc852",
   "metadata": {},
   "outputs": [
    {
     "name": "stdout",
     "output_type": "stream",
     "text": [
      "Testing lcn_backward function\n",
      "dx error:  1.6484967521315567e-08\n",
      "dw error:  1.5481685674904215e-07\n",
      "db error:  3.70166051916638e-11\n"
     ]
    }
   ],
   "source": [
    "np.random.seed(231)\n",
    "x = np.random.randn(4, 3, 5, 5)\n",
    "w = np.random.randn(2, 75, 2, 2)\n",
    "b = np.random.randn(2,)\n",
    "dout = np.random.randn(4, 2, 2, 2)\n",
    "lcn_param = {'center_dist': 1}\n",
    "\n",
    "dx_num = eval_numerical_gradient_array(lambda x: lcn_forward(x, w, b, lcn_param)[0], x, dout)\n",
    "dw_num = eval_numerical_gradient_array(lambda w: lcn_forward(x, w, b, lcn_param)[0], w, dout)\n",
    "db_num = eval_numerical_gradient_array(lambda b: lcn_forward(x, w, b, lcn_param)[0], b, dout)\n",
    "\n",
    "out, cache = lcn_forward(x, w, b, lcn_param)\n",
    "dx, dw, db = lcn_backward(dout, cache)\n",
    "\n",
    "# Your errors should be around e-8 or less.\n",
    "print('Testing lcn_backward function')\n",
    "print('dx error: ', rel_error(dx, dx_num))\n",
    "print('dw error: ', rel_error(dw, dw_num))\n",
    "print('db error: ', rel_error(db, db_num))"
   ]
  },
  {
   "cell_type": "markdown",
   "id": "3b6a95a2",
   "metadata": {},
   "source": [
    "# Speed test"
   ]
  },
  {
   "cell_type": "code",
   "execution_count": 15,
   "id": "3e328f28",
   "metadata": {},
   "outputs": [
    {
     "name": "stdout",
     "output_type": "stream",
     "text": [
      "Testing lcn_forward:\n",
      "Conv: 23.501356s\n",
      "LCN: 0.269162s\n",
      "Speedup: 87.313073x\n",
      "Testing lcn_backward:\n",
      "Conv: 35.468672s\n",
      "LCN: 0.371476s\n",
      "Speedup: 95.480403x\n"
     ]
    }
   ],
   "source": [
    "# Compare the time with conv_naive\n",
    "from time import time\n",
    "np.random.seed(231)\n",
    "x = np.random.randn(100, 3, 32, 32)\n",
    "w_conv = np.random.randn(32, 3, 5, 5)\n",
    "w_lcn = np.random.randn(2, 3072, 5, 5)\n",
    "b_conv = np.random.randn(32,)\n",
    "b_lcn = np.random.randn(2,)\n",
    "dout_conv = np.random.randn(100, 32, 32, 32)\n",
    "dout_lcn = np.random.randn(100, 2, 5, 5)\n",
    "conv_param = {'stride': 1, 'pad': 2}\n",
    "lcn_param = {'center_dist': 1}\n",
    "\n",
    "\n",
    "t0 = time()\n",
    "out_naive, cache_naive = conv_forward_naive(x, w_conv, b_conv, conv_param)\n",
    "t1 = time()\n",
    "out_lcn, cache_lcn = lcn_forward(x, w_lcn, b_lcn, lcn_param)\n",
    "t2 = time()\n",
    "\n",
    "print('Testing lcn_forward:')\n",
    "print('Conv: %fs' % (t1 - t0))\n",
    "print('LCN: %fs' % (t2 - t1))\n",
    "print('Speedup: %fx' % ((t1 - t0) / (t2 - t1)))\n",
    "\n",
    "t0 = time()\n",
    "dx_naive, dw_naive, db_naive = conv_backward_naive(dout_conv, cache_naive)\n",
    "t1 = time()\n",
    "dx_lcn, dw_lcn, db_lcn = lcn_backward(dout_lcn, cache_lcn)\n",
    "t2 = time()\n",
    "\n",
    "print('Testing lcn_backward:')\n",
    "print('Conv: %fs' % (t1 - t0))\n",
    "print('LCN: %fs' % (t2 - t1))\n",
    "print('Speedup: %fx' % ((t1 - t0) / (t2 - t1)))"
   ]
  },
  {
   "cell_type": "code",
   "execution_count": null,
   "id": "17ea524f",
   "metadata": {},
   "outputs": [],
   "source": []
  },
  {
   "cell_type": "code",
   "execution_count": 16,
   "id": "dfa79806",
   "metadata": {},
   "outputs": [
    {
     "name": "stdout",
     "output_type": "stream",
     "text": [
      "(Iteration 1 / 30) loss: 2.303085\n",
      "(Epoch 0 / 15) train acc: 0.190000; val_acc: 0.114000\n",
      "(Iteration 2 / 30) loss: 2.297378\n",
      "(Epoch 1 / 15) train acc: 0.160000; val_acc: 0.117000\n",
      "(Iteration 3 / 30) loss: 2.291885\n",
      "(Iteration 4 / 30) loss: 2.278358\n",
      "(Epoch 2 / 15) train acc: 0.210000; val_acc: 0.127000\n",
      "(Iteration 5 / 30) loss: 2.272711\n",
      "(Iteration 6 / 30) loss: 2.249300\n",
      "(Epoch 3 / 15) train acc: 0.190000; val_acc: 0.138000\n",
      "(Iteration 7 / 30) loss: 2.240283\n",
      "(Iteration 8 / 30) loss: 2.211211\n",
      "(Epoch 4 / 15) train acc: 0.190000; val_acc: 0.137000\n",
      "(Iteration 9 / 30) loss: 2.190593\n",
      "(Iteration 10 / 30) loss: 2.079509\n",
      "(Epoch 5 / 15) train acc: 0.190000; val_acc: 0.138000\n",
      "(Iteration 11 / 30) loss: 2.119107\n",
      "(Iteration 12 / 30) loss: 2.151853\n",
      "(Epoch 6 / 15) train acc: 0.190000; val_acc: 0.138000\n",
      "(Iteration 13 / 30) loss: 2.070984\n",
      "(Iteration 14 / 30) loss: 2.026814\n",
      "(Epoch 7 / 15) train acc: 0.210000; val_acc: 0.143000\n",
      "(Iteration 15 / 30) loss: 2.065783\n",
      "(Iteration 16 / 30) loss: 1.929231\n",
      "(Epoch 8 / 15) train acc: 0.270000; val_acc: 0.142000\n",
      "(Iteration 17 / 30) loss: 1.949392\n",
      "(Iteration 18 / 30) loss: 1.796714\n",
      "(Epoch 9 / 15) train acc: 0.330000; val_acc: 0.138000\n",
      "(Iteration 19 / 30) loss: 1.931006\n",
      "(Iteration 20 / 30) loss: 1.755013\n",
      "(Epoch 10 / 15) train acc: 0.360000; val_acc: 0.154000\n",
      "(Iteration 21 / 30) loss: 1.883648\n",
      "(Iteration 22 / 30) loss: 1.871661\n",
      "(Epoch 11 / 15) train acc: 0.390000; val_acc: 0.145000\n",
      "(Iteration 23 / 30) loss: 1.963836\n",
      "(Iteration 24 / 30) loss: 2.025781\n",
      "(Epoch 12 / 15) train acc: 0.430000; val_acc: 0.145000\n",
      "(Iteration 25 / 30) loss: 1.636729\n",
      "(Iteration 26 / 30) loss: 1.509752\n",
      "(Epoch 13 / 15) train acc: 0.440000; val_acc: 0.138000\n",
      "(Iteration 27 / 30) loss: 1.548169\n",
      "(Iteration 28 / 30) loss: 1.679752\n",
      "(Epoch 14 / 15) train acc: 0.440000; val_acc: 0.144000\n",
      "(Iteration 29 / 30) loss: 1.504708\n",
      "(Iteration 30 / 30) loss: 1.609352\n",
      "(Epoch 15 / 15) train acc: 0.480000; val_acc: 0.158000\n",
      "ThreeLayerLCNNet: 58.569943s\n"
     ]
    }
   ],
   "source": [
    "np.random.seed(231)\n",
    "\n",
    "num_train = 100\n",
    "small_data = {\n",
    "  'X_train': data['X_train'][:num_train],\n",
    "  'y_train': data['y_train'][:num_train],\n",
    "  'X_val': data['X_val'],\n",
    "  'y_val': data['y_val'],\n",
    "}\n",
    "\n",
    "model = ThreeLayerLCNNet(weight_scale=1e-2)\n",
    "\n",
    "solver = Solver(model, small_data,\n",
    "                num_epochs=15, batch_size=50,\n",
    "                update_rule='adam',\n",
    "                optim_config={\n",
    "                  'learning_rate': 1e-3,\n",
    "                },\n",
    "                verbose=True, print_every=1)\n",
    "t0 = time()\n",
    "solver.train()\n",
    "t1 = time()\n",
    "print('ThreeLayerLCNNet: %fs' % (t1 - t0))"
   ]
  },
  {
   "cell_type": "code",
   "execution_count": 17,
   "id": "63b9a2a4",
   "metadata": {},
   "outputs": [
    {
     "name": "stdout",
     "output_type": "stream",
     "text": [
      "(Iteration 1 / 60) loss: 2.303085\n",
      "(Epoch 0 / 30) train acc: 0.190000; val_acc: 0.114000\n",
      "(Iteration 2 / 60) loss: 2.297378\n",
      "(Epoch 1 / 30) train acc: 0.160000; val_acc: 0.117000\n",
      "(Iteration 3 / 60) loss: 2.291885\n",
      "(Iteration 4 / 60) loss: 2.278358\n",
      "(Epoch 2 / 30) train acc: 0.210000; val_acc: 0.127000\n",
      "(Iteration 5 / 60) loss: 2.272711\n",
      "(Iteration 6 / 60) loss: 2.249300\n",
      "(Epoch 3 / 30) train acc: 0.190000; val_acc: 0.138000\n",
      "(Iteration 7 / 60) loss: 2.240283\n",
      "(Iteration 8 / 60) loss: 2.211211\n",
      "(Epoch 4 / 30) train acc: 0.190000; val_acc: 0.137000\n",
      "(Iteration 9 / 60) loss: 2.190593\n",
      "(Iteration 10 / 60) loss: 2.079509\n",
      "(Epoch 5 / 30) train acc: 0.190000; val_acc: 0.138000\n",
      "(Iteration 11 / 60) loss: 2.119107\n",
      "(Iteration 12 / 60) loss: 2.151853\n",
      "(Epoch 6 / 30) train acc: 0.190000; val_acc: 0.138000\n",
      "(Iteration 13 / 60) loss: 2.070984\n",
      "(Iteration 14 / 60) loss: 2.026814\n",
      "(Epoch 7 / 30) train acc: 0.210000; val_acc: 0.143000\n",
      "(Iteration 15 / 60) loss: 2.065783\n",
      "(Iteration 16 / 60) loss: 1.929231\n",
      "(Epoch 8 / 30) train acc: 0.270000; val_acc: 0.142000\n",
      "(Iteration 17 / 60) loss: 1.949392\n",
      "(Iteration 18 / 60) loss: 1.796714\n",
      "(Epoch 9 / 30) train acc: 0.330000; val_acc: 0.138000\n",
      "(Iteration 19 / 60) loss: 1.931006\n",
      "(Iteration 20 / 60) loss: 1.755013\n",
      "(Epoch 10 / 30) train acc: 0.360000; val_acc: 0.154000\n",
      "(Iteration 21 / 60) loss: 1.883648\n",
      "(Iteration 22 / 60) loss: 1.871661\n",
      "(Epoch 11 / 30) train acc: 0.390000; val_acc: 0.145000\n",
      "(Iteration 23 / 60) loss: 1.963836\n",
      "(Iteration 24 / 60) loss: 2.025781\n",
      "(Epoch 12 / 30) train acc: 0.430000; val_acc: 0.145000\n",
      "(Iteration 25 / 60) loss: 1.636729\n",
      "(Iteration 26 / 60) loss: 1.509752\n",
      "(Epoch 13 / 30) train acc: 0.440000; val_acc: 0.138000\n",
      "(Iteration 27 / 60) loss: 1.548169\n",
      "(Iteration 28 / 60) loss: 1.679752\n",
      "(Epoch 14 / 30) train acc: 0.440000; val_acc: 0.144000\n",
      "(Iteration 29 / 60) loss: 1.504708\n",
      "(Iteration 30 / 60) loss: 1.609352\n",
      "(Epoch 15 / 30) train acc: 0.480000; val_acc: 0.158000\n",
      "(Iteration 31 / 60) loss: 1.557048\n",
      "(Iteration 32 / 60) loss: 1.534132\n",
      "(Epoch 16 / 30) train acc: 0.560000; val_acc: 0.163000\n",
      "(Iteration 33 / 60) loss: 1.260983\n",
      "(Iteration 34 / 60) loss: 1.422332\n",
      "(Epoch 17 / 30) train acc: 0.560000; val_acc: 0.163000\n",
      "(Iteration 35 / 60) loss: 1.314119\n",
      "(Iteration 36 / 60) loss: 1.215818\n",
      "(Epoch 18 / 30) train acc: 0.570000; val_acc: 0.157000\n",
      "(Iteration 37 / 60) loss: 1.273080\n",
      "(Iteration 38 / 60) loss: 1.034091\n",
      "(Epoch 19 / 30) train acc: 0.590000; val_acc: 0.156000\n",
      "(Iteration 39 / 60) loss: 1.216583\n",
      "(Iteration 40 / 60) loss: 1.148192\n",
      "(Epoch 20 / 30) train acc: 0.610000; val_acc: 0.152000\n",
      "(Iteration 41 / 60) loss: 1.035307\n",
      "(Iteration 42 / 60) loss: 1.167786\n",
      "(Epoch 21 / 30) train acc: 0.650000; val_acc: 0.160000\n",
      "(Iteration 43 / 60) loss: 0.904352\n",
      "(Iteration 44 / 60) loss: 1.037922\n",
      "(Epoch 22 / 30) train acc: 0.670000; val_acc: 0.169000\n",
      "(Iteration 45 / 60) loss: 1.250290\n",
      "(Iteration 46 / 60) loss: 0.900557\n",
      "(Epoch 23 / 30) train acc: 0.730000; val_acc: 0.166000\n",
      "(Iteration 47 / 60) loss: 0.885014\n",
      "(Iteration 48 / 60) loss: 0.906426\n",
      "(Epoch 24 / 30) train acc: 0.740000; val_acc: 0.161000\n",
      "(Iteration 49 / 60) loss: 0.837842\n",
      "(Iteration 50 / 60) loss: 0.635060\n",
      "(Epoch 25 / 30) train acc: 0.780000; val_acc: 0.155000\n",
      "(Iteration 51 / 60) loss: 0.702977\n",
      "(Iteration 52 / 60) loss: 0.816583\n",
      "(Epoch 26 / 30) train acc: 0.780000; val_acc: 0.162000\n",
      "(Iteration 53 / 60) loss: 0.759451\n",
      "(Iteration 54 / 60) loss: 0.595689\n",
      "(Epoch 27 / 30) train acc: 0.810000; val_acc: 0.163000\n",
      "(Iteration 55 / 60) loss: 0.569682\n",
      "(Iteration 56 / 60) loss: 0.584553\n",
      "(Epoch 28 / 30) train acc: 0.810000; val_acc: 0.178000\n",
      "(Iteration 57 / 60) loss: 0.711781\n",
      "(Iteration 58 / 60) loss: 0.446981\n",
      "(Epoch 29 / 30) train acc: 0.820000; val_acc: 0.178000\n",
      "(Iteration 59 / 60) loss: 0.565143\n",
      "(Iteration 60 / 60) loss: 0.534164\n",
      "(Epoch 30 / 30) train acc: 0.850000; val_acc: 0.175000\n",
      "ThreeLayerLCNNet: 115.343347s\n"
     ]
    }
   ],
   "source": [
    "np.random.seed(231)\n",
    "\n",
    "num_train = 100\n",
    "small_data = {\n",
    "  'X_train': data['X_train'][:num_train],\n",
    "  'y_train': data['y_train'][:num_train],\n",
    "  'X_val': data['X_val'],\n",
    "  'y_val': data['y_val'],\n",
    "}\n",
    "\n",
    "model = ThreeLayerLCNNet(weight_scale=1e-2)\n",
    "\n",
    "solver = Solver(model, small_data,\n",
    "                num_epochs=30, batch_size=50,\n",
    "                update_rule='adam',\n",
    "                optim_config={\n",
    "                  'learning_rate': 1e-3,\n",
    "                },\n",
    "                verbose=True, print_every=1)\n",
    "t0 = time()\n",
    "solver.train()\n",
    "t1 = time()\n",
    "print('ThreeLayerLCNNet: %fs' % (t1 - t0))"
   ]
  },
  {
   "cell_type": "markdown",
   "id": "fb69deb9",
   "metadata": {},
   "source": [
    "## Plot\n",
    "Plotting the loss, training accuracy, and validation accuracy should show clear overfitting:"
   ]
  },
  {
   "cell_type": "code",
   "execution_count": 18,
   "id": "47e6c234",
   "metadata": {},
   "outputs": [
    {
     "data": {
      "image/png": "[encoded data removed]",
      "text/plain": [
       "<Figure size 720x576 with 2 Axes>"
      ]
     },
     "metadata": {
      "needs_background": "light"
     },
     "output_type": "display_data"
    }
   ],
   "source": [
    "plt.subplot(2, 1, 1)\n",
    "plt.plot(solver.loss_history, 'o')\n",
    "plt.xlabel('iteration')\n",
    "plt.ylabel('loss')\n",
    "\n",
    "plt.subplot(2, 1, 2)\n",
    "plt.plot(solver.train_acc_history, '-o')\n",
    "plt.plot(solver.val_acc_history, '-o')\n",
    "plt.legend(['train', 'val'], loc='upper left')\n",
    "plt.xlabel('epoch')\n",
    "plt.ylabel('accuracy')\n",
    "plt.show()"
   ]
  },
  {
   "cell_type": "markdown",
   "id": "98f88580",
   "metadata": {},
   "source": [
    "## Train the net\n"
   ]
  },
  {
   "cell_type": "code",
   "execution_count": 19,
   "id": "7329d2ce",
   "metadata": {},
   "outputs": [
    {
     "name": "stdout",
     "output_type": "stream",
     "text": [
      "(Iteration 1 / 1960) loss: 2.313389\n",
      "(Epoch 0 / 2) train acc: 0.128000; val_acc: 0.139000\n",
      "(Iteration 21 / 1960) loss: 2.145889\n",
      "(Iteration 41 / 1960) loss: 2.195151\n",
      "(Iteration 61 / 1960) loss: 1.873622\n",
      "(Iteration 81 / 1960) loss: 1.957064\n",
      "(Iteration 101 / 1960) loss: 1.873685\n",
      "(Iteration 121 / 1960) loss: 1.847917\n",
      "(Iteration 141 / 1960) loss: 1.871845\n",
      "(Iteration 161 / 1960) loss: 1.875362\n",
      "(Iteration 181 / 1960) loss: 1.719671\n",
      "(Iteration 201 / 1960) loss: 1.985056\n",
      "(Iteration 221 / 1960) loss: 2.032706\n",
      "(Iteration 241 / 1960) loss: 1.628344\n",
      "(Iteration 261 / 1960) loss: 1.832034\n",
      "(Iteration 281 / 1960) loss: 1.800867\n",
      "(Iteration 301 / 1960) loss: 1.876811\n",
      "(Iteration 321 / 1960) loss: 1.846718\n",
      "(Iteration 341 / 1960) loss: 1.939476\n",
      "(Iteration 361 / 1960) loss: 1.533312\n",
      "(Iteration 381 / 1960) loss: 2.018805\n",
      "(Iteration 401 / 1960) loss: 1.696750\n",
      "(Iteration 421 / 1960) loss: 1.581908\n",
      "(Iteration 441 / 1960) loss: 1.625276\n",
      "(Iteration 461 / 1960) loss: 1.489770\n",
      "(Iteration 481 / 1960) loss: 1.592526\n",
      "(Iteration 501 / 1960) loss: 1.726771\n",
      "(Iteration 521 / 1960) loss: 1.926403\n",
      "(Iteration 541 / 1960) loss: 1.705527\n",
      "(Iteration 561 / 1960) loss: 1.597639\n",
      "(Iteration 581 / 1960) loss: 1.629644\n",
      "(Iteration 601 / 1960) loss: 1.693797\n",
      "(Iteration 621 / 1960) loss: 1.962105\n",
      "(Iteration 641 / 1960) loss: 1.546338\n",
      "(Iteration 661 / 1960) loss: 1.403716\n",
      "(Iteration 681 / 1960) loss: 1.521711\n",
      "(Iteration 701 / 1960) loss: 1.449616\n",
      "(Iteration 721 / 1960) loss: 1.577388\n",
      "(Iteration 741 / 1960) loss: 1.621428\n",
      "(Iteration 761 / 1960) loss: 1.637392\n",
      "(Iteration 781 / 1960) loss: 1.700619\n",
      "(Iteration 801 / 1960) loss: 1.740680\n",
      "(Iteration 821 / 1960) loss: 1.788175\n",
      "(Iteration 841 / 1960) loss: 1.761664\n",
      "(Iteration 861 / 1960) loss: 1.526676\n",
      "(Iteration 881 / 1960) loss: 1.849363\n",
      "(Iteration 901 / 1960) loss: 1.785671\n",
      "(Iteration 921 / 1960) loss: 1.797846\n",
      "(Iteration 941 / 1960) loss: 1.480861\n",
      "(Iteration 961 / 1960) loss: 1.596933\n",
      "(Epoch 1 / 2) train acc: 0.438000; val_acc: 0.434000\n",
      "(Iteration 981 / 1960) loss: 1.796730\n",
      "(Iteration 1001 / 1960) loss: 1.738754\n",
      "(Iteration 1021 / 1960) loss: 1.419239\n",
      "(Iteration 1041 / 1960) loss: 1.750196\n",
      "(Iteration 1061 / 1960) loss: 1.560307\n",
      "(Iteration 1081 / 1960) loss: 1.475492\n",
      "(Iteration 1101 / 1960) loss: 1.843779\n",
      "(Iteration 1121 / 1960) loss: 1.473238\n",
      "(Iteration 1141 / 1960) loss: 1.712971\n",
      "(Iteration 1161 / 1960) loss: 1.591443\n",
      "(Iteration 1181 / 1960) loss: 1.450057\n",
      "(Iteration 1201 / 1960) loss: 1.834941\n",
      "(Iteration 1221 / 1960) loss: 1.594670\n",
      "(Iteration 1241 / 1960) loss: 1.626019\n",
      "(Iteration 1261 / 1960) loss: 1.526556\n",
      "(Iteration 1281 / 1960) loss: 1.845438\n",
      "(Iteration 1301 / 1960) loss: 1.435116\n",
      "(Iteration 1321 / 1960) loss: 1.727973\n",
      "(Iteration 1341 / 1960) loss: 1.473951\n",
      "(Iteration 1361 / 1960) loss: 1.465492\n",
      "(Iteration 1381 / 1960) loss: 1.528363\n",
      "(Iteration 1401 / 1960) loss: 1.435024\n",
      "(Iteration 1421 / 1960) loss: 1.737634\n",
      "(Iteration 1441 / 1960) loss: 1.437014\n",
      "(Iteration 1461 / 1960) loss: 1.581369\n",
      "(Iteration 1481 / 1960) loss: 1.863023\n",
      "(Iteration 1501 / 1960) loss: 1.670747\n",
      "(Iteration 1521 / 1960) loss: 1.759745\n",
      "(Iteration 1541 / 1960) loss: 1.524672\n",
      "(Iteration 1561 / 1960) loss: 1.497627\n",
      "(Iteration 1581 / 1960) loss: 1.559493\n",
      "(Iteration 1601 / 1960) loss: 1.340646\n",
      "(Iteration 1621 / 1960) loss: 1.423295\n",
      "(Iteration 1641 / 1960) loss: 1.553400\n",
      "(Iteration 1661 / 1960) loss: 1.676367\n",
      "(Iteration 1681 / 1960) loss: 1.510221\n",
      "(Iteration 1701 / 1960) loss: 1.308739\n",
      "(Iteration 1721 / 1960) loss: 1.791712\n",
      "(Iteration 1741 / 1960) loss: 1.369459\n",
      "(Iteration 1761 / 1960) loss: 1.499353\n",
      "(Iteration 1781 / 1960) loss: 1.368589\n",
      "(Iteration 1801 / 1960) loss: 1.764487\n",
      "(Iteration 1821 / 1960) loss: 1.463270\n",
      "(Iteration 1841 / 1960) loss: 1.597272\n",
      "(Iteration 1861 / 1960) loss: 1.609555\n",
      "(Iteration 1881 / 1960) loss: 1.615329\n",
      "(Iteration 1901 / 1960) loss: 1.703794\n",
      "(Iteration 1921 / 1960) loss: 1.608812\n",
      "(Iteration 1941 / 1960) loss: 1.403342\n",
      "(Epoch 2 / 2) train acc: 0.452000; val_acc: 0.435000\n",
      "ThreeLayerLCNNet train: 671.981052s\n"
     ]
    }
   ],
   "source": [
    "model = ThreeLayerLCNNet(weight_scale=1e-2, hidden_dim=500, reg=1e-3)\n",
    "\n",
    "solver = Solver(model, data,\n",
    "                num_epochs=2, batch_size=50,\n",
    "                update_rule='adam',\n",
    "                optim_config={\n",
    "                  'learning_rate': 1e-3,\n",
    "                },\n",
    "                verbose=True, print_every=20)\n",
    "t0 = time()\n",
    "solver.train()\n",
    "t1 = time()\n",
    "print('ThreeLayerLCNNet train: %fs' % (t1 - t0))"
   ]
  },
  {
   "cell_type": "code",
   "execution_count": 32,
   "id": "576712d2",
   "metadata": {},
   "outputs": [
    {
     "ename": "TypeError",
     "evalue": "subplot() takes 1 or 3 positional arguments but 4 were given",
     "output_type": "error",
     "traceback": [
      "\u001b[0;31m---------------------------------------------------------------------------\u001b[0m",
      "\u001b[0;31mTypeError\u001b[0m                                 Traceback (most recent call last)",
      "\u001b[0;32m<ipython-input-32-8a21edb6c8e2>\u001b[0m in \u001b[0;36m<module>\u001b[0;34m\u001b[0m\n\u001b[1;32m      6\u001b[0m \u001b[0;34m\u001b[0m\u001b[0m\n\u001b[1;32m      7\u001b[0m \u001b[0;32mfor\u001b[0m \u001b[0mi\u001b[0m \u001b[0;32min\u001b[0m \u001b[0mrange\u001b[0m\u001b[0;34m(\u001b[0m\u001b[0;36m50\u001b[0m\u001b[0;34m)\u001b[0m\u001b[0;34m:\u001b[0m\u001b[0;34m\u001b[0m\u001b[0;34m\u001b[0m\u001b[0m\n\u001b[0;32m----> 8\u001b[0;31m     \u001b[0mplt\u001b[0m\u001b[0;34m.\u001b[0m\u001b[0msubplot\u001b[0m\u001b[0;34m(\u001b[0m\u001b[0;36m2\u001b[0m\u001b[0;34m,\u001b[0m \u001b[0;36m5\u001b[0m\u001b[0;34m,\u001b[0m \u001b[0;36m5\u001b[0m\u001b[0;34m,\u001b[0m \u001b[0mi\u001b[0m \u001b[0;34m+\u001b[0m \u001b[0;36m1\u001b[0m\u001b[0;34m)\u001b[0m\u001b[0;34m\u001b[0m\u001b[0;34m\u001b[0m\u001b[0m\n\u001b[0m\u001b[1;32m      9\u001b[0m \u001b[0;34m\u001b[0m\u001b[0m\n\u001b[1;32m     10\u001b[0m     \u001b[0;31m# Rescale the weights to be between 0 and 255\u001b[0m\u001b[0;34m\u001b[0m\u001b[0;34m\u001b[0m\u001b[0;34m\u001b[0m\u001b[0m\n",
      "\u001b[0;32m~/opt/anaconda3/envs/compsci682/lib/python3.6/site-packages/matplotlib/pyplot.py\u001b[0m in \u001b[0;36msubplot\u001b[0;34m(*args, **kwargs)\u001b[0m\n\u001b[1;32m   1140\u001b[0m \u001b[0;34m\u001b[0m\u001b[0m\n\u001b[1;32m   1141\u001b[0m     \u001b[0mfig\u001b[0m \u001b[0;34m=\u001b[0m \u001b[0mgcf\u001b[0m\u001b[0;34m(\u001b[0m\u001b[0;34m)\u001b[0m\u001b[0;34m\u001b[0m\u001b[0;34m\u001b[0m\u001b[0m\n\u001b[0;32m-> 1142\u001b[0;31m     \u001b[0max\u001b[0m \u001b[0;34m=\u001b[0m \u001b[0mfig\u001b[0m\u001b[0;34m.\u001b[0m\u001b[0madd_subplot\u001b[0m\u001b[0;34m(\u001b[0m\u001b[0;34m*\u001b[0m\u001b[0margs\u001b[0m\u001b[0;34m,\u001b[0m \u001b[0;34m**\u001b[0m\u001b[0mkwargs\u001b[0m\u001b[0;34m)\u001b[0m\u001b[0;34m\u001b[0m\u001b[0;34m\u001b[0m\u001b[0m\n\u001b[0m\u001b[1;32m   1143\u001b[0m     \u001b[0mbbox\u001b[0m \u001b[0;34m=\u001b[0m \u001b[0max\u001b[0m\u001b[0;34m.\u001b[0m\u001b[0mbbox\u001b[0m\u001b[0;34m\u001b[0m\u001b[0;34m\u001b[0m\u001b[0m\n\u001b[1;32m   1144\u001b[0m     \u001b[0maxes_to_delete\u001b[0m \u001b[0;34m=\u001b[0m \u001b[0;34m[\u001b[0m\u001b[0;34m]\u001b[0m\u001b[0;34m\u001b[0m\u001b[0;34m\u001b[0m\u001b[0m\n",
      "\u001b[0;32m~/opt/anaconda3/envs/compsci682/lib/python3.6/site-packages/matplotlib/figure.py\u001b[0m in \u001b[0;36madd_subplot\u001b[0;34m(self, *args, **kwargs)\u001b[0m\n\u001b[1;32m   1400\u001b[0m                     \u001b[0;31m# more similar to add_axes.\u001b[0m\u001b[0;34m\u001b[0m\u001b[0;34m\u001b[0m\u001b[0;34m\u001b[0m\u001b[0m\n\u001b[1;32m   1401\u001b[0m                     \u001b[0mself\u001b[0m\u001b[0;34m.\u001b[0m\u001b[0m_axstack\u001b[0m\u001b[0;34m.\u001b[0m\u001b[0mremove\u001b[0m\u001b[0;34m(\u001b[0m\u001b[0max\u001b[0m\u001b[0;34m)\u001b[0m\u001b[0;34m\u001b[0m\u001b[0;34m\u001b[0m\u001b[0m\n\u001b[0;32m-> 1402\u001b[0;31m             \u001b[0max\u001b[0m \u001b[0;34m=\u001b[0m \u001b[0msubplot_class_factory\u001b[0m\u001b[0;34m(\u001b[0m\u001b[0mprojection_class\u001b[0m\u001b[0;34m)\u001b[0m\u001b[0;34m(\u001b[0m\u001b[0mself\u001b[0m\u001b[0;34m,\u001b[0m \u001b[0;34m*\u001b[0m\u001b[0margs\u001b[0m\u001b[0;34m,\u001b[0m \u001b[0;34m**\u001b[0m\u001b[0mkwargs\u001b[0m\u001b[0;34m)\u001b[0m\u001b[0;34m\u001b[0m\u001b[0;34m\u001b[0m\u001b[0m\n\u001b[0m\u001b[1;32m   1403\u001b[0m \u001b[0;34m\u001b[0m\u001b[0m\n\u001b[1;32m   1404\u001b[0m         \u001b[0;32mreturn\u001b[0m \u001b[0mself\u001b[0m\u001b[0;34m.\u001b[0m\u001b[0m_add_axes_internal\u001b[0m\u001b[0;34m(\u001b[0m\u001b[0mkey\u001b[0m\u001b[0;34m,\u001b[0m \u001b[0max\u001b[0m\u001b[0;34m)\u001b[0m\u001b[0;34m\u001b[0m\u001b[0;34m\u001b[0m\u001b[0m\n",
      "\u001b[0;32m~/opt/anaconda3/envs/compsci682/lib/python3.6/site-packages/matplotlib/axes/_subplots.py\u001b[0m in \u001b[0;36m__init__\u001b[0;34m(self, fig, *args, **kwargs)\u001b[0m\n\u001b[1;32m     37\u001b[0m \u001b[0;34m\u001b[0m\u001b[0m\n\u001b[1;32m     38\u001b[0m         \u001b[0mself\u001b[0m\u001b[0;34m.\u001b[0m\u001b[0mfigure\u001b[0m \u001b[0;34m=\u001b[0m \u001b[0mfig\u001b[0m\u001b[0;34m\u001b[0m\u001b[0;34m\u001b[0m\u001b[0m\n\u001b[0;32m---> 39\u001b[0;31m         \u001b[0mself\u001b[0m\u001b[0;34m.\u001b[0m\u001b[0m_subplotspec\u001b[0m \u001b[0;34m=\u001b[0m \u001b[0mSubplotSpec\u001b[0m\u001b[0;34m.\u001b[0m\u001b[0m_from_subplot_args\u001b[0m\u001b[0;34m(\u001b[0m\u001b[0mfig\u001b[0m\u001b[0;34m,\u001b[0m \u001b[0margs\u001b[0m\u001b[0;34m)\u001b[0m\u001b[0;34m\u001b[0m\u001b[0;34m\u001b[0m\u001b[0m\n\u001b[0m\u001b[1;32m     40\u001b[0m         \u001b[0mself\u001b[0m\u001b[0;34m.\u001b[0m\u001b[0mupdate_params\u001b[0m\u001b[0;34m(\u001b[0m\u001b[0;34m)\u001b[0m\u001b[0;34m\u001b[0m\u001b[0;34m\u001b[0m\u001b[0m\n\u001b[1;32m     41\u001b[0m         \u001b[0;31m# _axes_class is set in the subplot_class_factory\u001b[0m\u001b[0;34m\u001b[0m\u001b[0;34m\u001b[0m\u001b[0;34m\u001b[0m\u001b[0m\n",
      "\u001b[0;32m~/opt/anaconda3/envs/compsci682/lib/python3.6/site-packages/matplotlib/gridspec.py\u001b[0m in \u001b[0;36m_from_subplot_args\u001b[0;34m(figure, args)\u001b[0m\n\u001b[1;32m    691\u001b[0m                 \u001b[0;32mreturn\u001b[0m \u001b[0mgs\u001b[0m\u001b[0;34m[\u001b[0m\u001b[0mnum\u001b[0m \u001b[0;34m-\u001b[0m \u001b[0;36m1\u001b[0m\u001b[0;34m]\u001b[0m   \u001b[0;31m# -1 due to MATLAB indexing.\u001b[0m\u001b[0;34m\u001b[0m\u001b[0;34m\u001b[0m\u001b[0m\n\u001b[1;32m    692\u001b[0m         \u001b[0;32melse\u001b[0m\u001b[0;34m:\u001b[0m\u001b[0;34m\u001b[0m\u001b[0;34m\u001b[0m\u001b[0m\n\u001b[0;32m--> 693\u001b[0;31m             raise TypeError(f\"subplot() takes 1 or 3 positional arguments but \"\n\u001b[0m\u001b[1;32m    694\u001b[0m                             f\"{len(args)} were given\")\n\u001b[1;32m    695\u001b[0m \u001b[0;34m\u001b[0m\u001b[0m\n",
      "\u001b[0;31mTypeError\u001b[0m: subplot() takes 1 or 3 positional arguments but 4 were given"
     ]
    },
    {
     "data": {
      "text/plain": [
       "<Figure size 720x576 with 0 Axes>"
      ]
     },
     "metadata": {},
     "output_type": "display_data"
    }
   ],
   "source": [
    "# Visualize the learned weights for each class\n",
    "w = model.params['W1'].transpose(0, 2, 3, 1)\n",
    "w = w.reshape(50, 32, 32, 3)\n",
    "\n",
    "w_min, w_max = np.min(w), np.max(w)\n",
    "\n",
    "for i in range(50):\n",
    "    plt.subplot(10, 5, i + 1)\n",
    "    \n",
    "    # Rescale the weights to be between 0 and 255\n",
    "    wimg = 255.0 * (w[i, :, :, :] - w_min) / (w_max - w_min)\n",
    "    plt.imshow(wimg.astype('uint8'))\n",
    "    plt.gcf().set_size_inches(100, 100)\n",
    "    plt.axis('off')"
   ]
  },
  {
   "cell_type": "code",
   "execution_count": null,
   "id": "34d35f07",
   "metadata": {},
   "outputs": [],
   "source": []
  }
 ],
 "metadata": {
  "kernelspec": {
   "display_name": "Python 3",
   "language": "python",
   "name": "python3"
  },
  "language_info": {
   "codemirror_mode": {
    "name": "ipython",
    "version": 3
   },
   "file_extension": ".py",
   "mimetype": "text/x-python",
   "name": "python",
   "nbconvert_exporter": "python",
   "pygments_lexer": "ipython3",
   "version": "3.6.13"
  }
 },
 "nbformat": 4,
 "nbformat_minor": 5
}
