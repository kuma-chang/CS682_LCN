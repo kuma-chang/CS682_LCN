{
 "cells": [
  {
   "cell_type": "markdown",
   "id": "75884e92",
   "metadata": {},
   "source": [
    "# Locally Connected Neural Network\n",
    "\n",
    "Our Final Project\n"
   ]
  },
  {
   "cell_type": "code",
   "execution_count": 1,
   "id": "7553c412",
   "metadata": {},
   "outputs": [],
   "source": [
    "#Use the setup that were given in assignment2/ConolutionNetworks\n",
    "import numpy as np\n",
    "import matplotlib.pyplot as plt\n",
    "from cs682.classifiers.cnn import *\n",
    "from cs682.data_utils import get_CIFAR10_data\n",
    "from cs682.gradient_check import eval_numerical_gradient_array, eval_numerical_gradient\n",
    "from cs682.layers import *\n",
    "from cs682.fast_layers import *\n",
    "from cs682.solver import Solver\n",
    "\n",
    "%matplotlib inline\n",
    "plt.rcParams['figure.figsize'] = (10.0, 8.0) # set default size of plots\n",
    "plt.rcParams['image.interpolation'] = 'nearest'\n",
    "plt.rcParams['image.cmap'] = 'gray'\n",
    "\n",
    "# for auto-reloading external modules\n",
    "# see http://stackoverflow.com/questions/1907993/autoreload-of-modules-in-ipython\n",
    "%load_ext autoreload\n",
    "%autoreload 2\n",
    "\n",
    "def rel_error(x, y):\n",
    "  \"\"\" returns relative error \"\"\"\n",
    "  return np.max(np.abs(x - y) / (np.maximum(1e-8, np.abs(x) + np.abs(y))))"
   ]
  },
  {
   "cell_type": "code",
   "execution_count": 2,
   "id": "097432db",
   "metadata": {},
   "outputs": [
    {
     "name": "stdout",
     "output_type": "stream",
     "text": [
      "X_train:  (49000, 3, 32, 32)\n",
      "y_train:  (49000,)\n",
      "X_val:  (1000, 3, 32, 32)\n",
      "y_val:  (1000,)\n",
      "X_test:  (1000, 3, 32, 32)\n",
      "y_test:  (1000,)\n"
     ]
    }
   ],
   "source": [
    "# Load the (preprocessed) CIFAR10 data.\n",
    "\n",
    "data = get_CIFAR10_data()\n",
    "for k, v in data.items():\n",
    "  print('%s: ' % k, v.shape)"
   ]
  },
  {
   "cell_type": "code",
   "execution_count": 3,
   "id": "d6e5d66b",
   "metadata": {},
   "outputs": [],
   "source": [
    "#Import the layer and net work we implimented\n",
    "from lcn import *\n",
    "from lc_fc_net import *"
   ]
  },
  {
   "cell_type": "markdown",
   "id": "fe64aaf3",
   "metadata": {},
   "source": [
    "# Locally Connected Neural Network: Naive forward pass"
   ]
  },
  {
   "cell_type": "code",
   "execution_count": 4,
   "id": "a9734568",
   "metadata": {},
   "outputs": [],
   "source": [
    "x_shape = (2, 3, 5, 5)\n",
    "w_shape = (3, 3, 5, 5)\n",
    "x = np.linspace(-0.1, 0.5, num=np.prod(x_shape)).reshape(x_shape)\n",
    "w = np.linspace(-0.2, 0.3, num=np.prod(w_shape)).reshape(w_shape)\n",
    "b = np.linspace(-0.1, 0.2, num=3)\n",
    "\n",
    "\n",
    "lcn_param = {'center_dist': 1}\n",
    "out, _ = lcn_forward(x, w, b, lcn_param)\n",
    "\n"
   ]
  },
  {
   "cell_type": "code",
   "execution_count": null,
   "id": "dccbc002",
   "metadata": {},
   "outputs": [],
   "source": []
  },
  {
   "cell_type": "code",
   "execution_count": 5,
   "id": "589cc852",
   "metadata": {},
   "outputs": [
    {
     "name": "stdout",
     "output_type": "stream",
     "text": [
      "Testing lcn_backward function\n",
      "dx error:  7.605098238940165e-09\n",
      "dw error:  6.615969864701e-09\n",
      "db error:  1.424218603976872e-11\n"
     ]
    }
   ],
   "source": [
    "np.random.seed(231)\n",
    "x = np.random.randn(4, 3, 5, 5)\n",
    "w = np.random.randn(2, 3, 5, 5)\n",
    "b = np.random.randn(2,)\n",
    "dout = np.random.randn(4, 2, 5, 5)\n",
    "lcn_param = {'center_dist': 1}\n",
    "\n",
    "dx_num = eval_numerical_gradient_array(lambda x: lcn_forward(x, w, b, lcn_param)[0], x, dout)\n",
    "dw_num = eval_numerical_gradient_array(lambda w: lcn_forward(x, w, b, lcn_param)[0], w, dout)\n",
    "db_num = eval_numerical_gradient_array(lambda b: lcn_forward(x, w, b, lcn_param)[0], b, dout)\n",
    "\n",
    "out, cache = lcn_forward(x, w, b, lcn_param)\n",
    "dx, dw, db = lcn_backward(dout, cache)\n",
    "\n",
    "# Your errors should be around e-8 or less.\n",
    "print('Testing lcn_backward function')\n",
    "print('dx error: ', rel_error(dx, dx_num))\n",
    "print('dw error: ', rel_error(dw, dw_num))\n",
    "print('db error: ', rel_error(db, db_num))"
   ]
  },
  {
   "cell_type": "markdown",
   "id": "3482d529",
   "metadata": {},
   "source": []
  },
  {
   "cell_type": "code",
   "execution_count": 7,
   "id": "bc673c3a",
   "metadata": {},
   "outputs": [
    {
     "name": "stdout",
     "output_type": "stream",
     "text": [
      "Testing lcn_forward:\n",
      "Conv: 22.743506s\n",
      "LCN: 3.787773s\n",
      "Testing lcn_backward:\n",
      "Conv: 34.816684s\n",
      "LCN: 5.416254s\n"
     ]
    }
   ],
   "source": [
    "# Compare the time with conv_naive\n",
    "from time import time\n",
    "np.random.seed(231)\n",
    "x = np.random.randn(100, 3, 32, 32)\n",
    "w_conv = np.random.randn(32, 3, 5, 5)\n",
    "w_lcn = np.random.randn(2, 3, 20, 20)\n",
    "b_conv = np.random.randn(32,)\n",
    "b_lcn = np.random.randn(2,)\n",
    "dout_conv = np.random.randn(100, 32, 32, 32)\n",
    "dout_lcn = np.random.randn(100, 2, 20, 20)\n",
    "conv_param = {'stride': 1, 'pad': 2}\n",
    "lcn_param = {'center_dist': 1}\n",
    "\n",
    "\n",
    "t0 = time()\n",
    "out_naive, cache_naive = conv_forward_naive(x, w_conv, b_conv, conv_param)\n",
    "t1 = time()\n",
    "out_lcn, cache_lcn = lcn_forward(x, w_lcn, b_lcn, lcn_param)\n",
    "t2 = time()\n",
    "\n",
    "print('Testing lcn_forward:')\n",
    "print('Conv: %fs' % (t1 - t0))\n",
    "print('LCN: %fs' % (t2 - t1))\n",
    "\n",
    "t0 = time()\n",
    "dx_naive, dw_naive, db_naive = conv_backward_naive(dout_conv, cache_naive)\n",
    "t1 = time()\n",
    "dx_lcn, dw_lcn, db_lcn = lcn_backward(dout_lcn, cache_lcn)\n",
    "t2 = time()\n",
    "\n",
    "print('Testing lcn_backward:')\n",
    "print('Conv: %fs' % (t1 - t0))\n",
    "print('LCN: %fs' % (t2 - t1))"
   ]
  },
  {
   "cell_type": "code",
   "execution_count": null,
   "id": "9da9f812",
   "metadata": {},
   "outputs": [],
   "source": []
  },
  {
   "cell_type": "code",
   "execution_count": 10,
   "id": "8a4b6bc1",
   "metadata": {},
   "outputs": [
    {
     "name": "stdout",
     "output_type": "stream",
     "text": [
      "(Iteration 1 / 30) loss: 2.344586\n",
      "(Epoch 0 / 15) train acc: 0.220000; val_acc: 0.102000\n",
      "(Iteration 2 / 30) loss: 2.285616\n",
      "(Epoch 1 / 15) train acc: 0.320000; val_acc: 0.148000\n",
      "(Iteration 3 / 30) loss: 1.994353\n",
      "(Iteration 4 / 30) loss: 2.046378\n",
      "(Epoch 2 / 15) train acc: 0.350000; val_acc: 0.181000\n",
      "(Iteration 5 / 30) loss: 1.943003\n",
      "(Iteration 6 / 30) loss: 1.843484\n",
      "(Epoch 3 / 15) train acc: 0.460000; val_acc: 0.190000\n",
      "(Iteration 7 / 30) loss: 1.736218\n",
      "(Iteration 8 / 30) loss: 1.703189\n",
      "(Epoch 4 / 15) train acc: 0.500000; val_acc: 0.190000\n",
      "(Iteration 9 / 30) loss: 1.385012\n",
      "(Iteration 10 / 30) loss: 1.691879\n",
      "(Epoch 5 / 15) train acc: 0.480000; val_acc: 0.204000\n",
      "(Iteration 11 / 30) loss: 1.332032\n",
      "(Iteration 12 / 30) loss: 1.411171\n",
      "(Epoch 6 / 15) train acc: 0.530000; val_acc: 0.209000\n",
      "(Iteration 13 / 30) loss: 1.266776\n",
      "(Iteration 14 / 30) loss: 1.430797\n",
      "(Epoch 7 / 15) train acc: 0.580000; val_acc: 0.200000\n",
      "(Iteration 15 / 30) loss: 1.318590\n",
      "(Iteration 16 / 30) loss: 1.323279\n",
      "(Epoch 8 / 15) train acc: 0.660000; val_acc: 0.205000\n",
      "(Iteration 17 / 30) loss: 1.055045\n",
      "(Iteration 18 / 30) loss: 0.983064\n",
      "(Epoch 9 / 15) train acc: 0.690000; val_acc: 0.211000\n",
      "(Iteration 19 / 30) loss: 1.113901\n",
      "(Iteration 20 / 30) loss: 1.087869\n",
      "(Epoch 10 / 15) train acc: 0.730000; val_acc: 0.224000\n",
      "(Iteration 21 / 30) loss: 0.875609\n",
      "(Iteration 22 / 30) loss: 0.966072\n",
      "(Epoch 11 / 15) train acc: 0.740000; val_acc: 0.208000\n",
      "(Iteration 23 / 30) loss: 0.870684\n",
      "(Iteration 24 / 30) loss: 0.518112\n",
      "(Epoch 12 / 15) train acc: 0.680000; val_acc: 0.203000\n",
      "(Iteration 25 / 30) loss: 0.826547\n",
      "(Iteration 26 / 30) loss: 0.856621\n",
      "(Epoch 13 / 15) train acc: 0.760000; val_acc: 0.210000\n",
      "(Iteration 27 / 30) loss: 0.758671\n",
      "(Iteration 28 / 30) loss: 0.617523\n",
      "(Epoch 14 / 15) train acc: 0.800000; val_acc: 0.201000\n",
      "(Iteration 29 / 30) loss: 0.667865\n",
      "(Iteration 30 / 30) loss: 0.662763\n",
      "(Epoch 15 / 15) train acc: 0.830000; val_acc: 0.215000\n",
      "ThreeLayerLCNNet: 816.327457s\n"
     ]
    }
   ],
   "source": [
    "np.random.seed(231)\n",
    "\n",
    "num_train = 100\n",
    "small_data = {\n",
    "  'X_train': data['X_train'][:num_train],\n",
    "  'y_train': data['y_train'][:num_train],\n",
    "  'X_val': data['X_val'],\n",
    "  'y_val': data['y_val'],\n",
    "}\n",
    "\n",
    "model = ThreeLayerLCNNet(weight_scale=1e-2)\n",
    "\n",
    "solver = Solver(model, small_data,\n",
    "                num_epochs=15, batch_size=50,\n",
    "                update_rule='adam',\n",
    "                optim_config={\n",
    "                  'learning_rate': 1e-3,\n",
    "                },\n",
    "                verbose=True, print_every=1)\n",
    "t0 = time()\n",
    "solver.train()\n",
    "t1 = time()\n",
    "print('ThreeLayerLCNNet: %fs' % (t1 - t0))"
   ]
  },
  {
   "cell_type": "code",
   "execution_count": 11,
   "id": "6b67fc96",
   "metadata": {},
   "outputs": [
    {
     "name": "stdout",
     "output_type": "stream",
     "text": [
      "(Iteration 1 / 60) loss: 2.344586\n",
      "(Epoch 0 / 30) train acc: 0.220000; val_acc: 0.102000\n",
      "(Iteration 2 / 60) loss: 2.285616\n",
      "(Epoch 1 / 30) train acc: 0.320000; val_acc: 0.148000\n",
      "(Iteration 3 / 60) loss: 1.994353\n",
      "(Iteration 4 / 60) loss: 2.046378\n",
      "(Epoch 2 / 30) train acc: 0.350000; val_acc: 0.181000\n",
      "(Iteration 5 / 60) loss: 1.943003\n",
      "(Iteration 6 / 60) loss: 1.843484\n",
      "(Epoch 3 / 30) train acc: 0.460000; val_acc: 0.190000\n",
      "(Iteration 7 / 60) loss: 1.736218\n",
      "(Iteration 8 / 60) loss: 1.703189\n",
      "(Epoch 4 / 30) train acc: 0.500000; val_acc: 0.190000\n",
      "(Iteration 9 / 60) loss: 1.385012\n",
      "(Iteration 10 / 60) loss: 1.691879\n",
      "(Epoch 5 / 30) train acc: 0.480000; val_acc: 0.204000\n",
      "(Iteration 11 / 60) loss: 1.332032\n",
      "(Iteration 12 / 60) loss: 1.411171\n",
      "(Epoch 6 / 30) train acc: 0.530000; val_acc: 0.209000\n",
      "(Iteration 13 / 60) loss: 1.266776\n",
      "(Iteration 14 / 60) loss: 1.430797\n",
      "(Epoch 7 / 30) train acc: 0.580000; val_acc: 0.200000\n",
      "(Iteration 15 / 60) loss: 1.318590\n",
      "(Iteration 16 / 60) loss: 1.323279\n",
      "(Epoch 8 / 30) train acc: 0.660000; val_acc: 0.205000\n",
      "(Iteration 17 / 60) loss: 1.055045\n",
      "(Iteration 18 / 60) loss: 0.983064\n",
      "(Epoch 9 / 30) train acc: 0.690000; val_acc: 0.211000\n",
      "(Iteration 19 / 60) loss: 1.113901\n",
      "(Iteration 20 / 60) loss: 1.087869\n",
      "(Epoch 10 / 30) train acc: 0.730000; val_acc: 0.224000\n",
      "(Iteration 21 / 60) loss: 0.875609\n",
      "(Iteration 22 / 60) loss: 0.966072\n",
      "(Epoch 11 / 30) train acc: 0.740000; val_acc: 0.208000\n",
      "(Iteration 23 / 60) loss: 0.870684\n",
      "(Iteration 24 / 60) loss: 0.518112\n",
      "(Epoch 12 / 30) train acc: 0.680000; val_acc: 0.203000\n",
      "(Iteration 25 / 60) loss: 0.826547\n",
      "(Iteration 26 / 60) loss: 0.856621\n",
      "(Epoch 13 / 30) train acc: 0.760000; val_acc: 0.210000\n",
      "(Iteration 27 / 60) loss: 0.758671\n",
      "(Iteration 28 / 60) loss: 0.617523\n",
      "(Epoch 14 / 30) train acc: 0.800000; val_acc: 0.201000\n",
      "(Iteration 29 / 60) loss: 0.667865\n",
      "(Iteration 30 / 60) loss: 0.662763\n",
      "(Epoch 15 / 30) train acc: 0.830000; val_acc: 0.215000\n",
      "(Iteration 31 / 60) loss: 0.614546\n",
      "(Iteration 32 / 60) loss: 0.418878\n",
      "(Epoch 16 / 30) train acc: 0.850000; val_acc: 0.223000\n",
      "(Iteration 33 / 60) loss: 0.566028\n",
      "(Iteration 34 / 60) loss: 0.351546\n",
      "(Epoch 17 / 30) train acc: 0.900000; val_acc: 0.200000\n",
      "(Iteration 35 / 60) loss: 0.285272\n",
      "(Iteration 36 / 60) loss: 0.309360\n",
      "(Epoch 18 / 30) train acc: 0.900000; val_acc: 0.203000\n",
      "(Iteration 37 / 60) loss: 0.272223\n",
      "(Iteration 38 / 60) loss: 0.414775\n",
      "(Epoch 19 / 30) train acc: 0.900000; val_acc: 0.205000\n",
      "(Iteration 39 / 60) loss: 0.172154\n",
      "(Iteration 40 / 60) loss: 0.480304\n",
      "(Epoch 20 / 30) train acc: 0.940000; val_acc: 0.210000\n",
      "(Iteration 41 / 60) loss: 0.221969\n",
      "(Iteration 42 / 60) loss: 0.241047\n",
      "(Epoch 21 / 30) train acc: 0.930000; val_acc: 0.224000\n",
      "(Iteration 43 / 60) loss: 0.245820\n",
      "(Iteration 44 / 60) loss: 0.298194\n",
      "(Epoch 22 / 30) train acc: 0.950000; val_acc: 0.226000\n",
      "(Iteration 45 / 60) loss: 0.310708\n",
      "(Iteration 46 / 60) loss: 0.299225\n",
      "(Epoch 23 / 30) train acc: 0.950000; val_acc: 0.227000\n",
      "(Iteration 47 / 60) loss: 0.173690\n",
      "(Iteration 48 / 60) loss: 0.217132\n",
      "(Epoch 24 / 30) train acc: 0.980000; val_acc: 0.223000\n",
      "(Iteration 49 / 60) loss: 0.181414\n",
      "(Iteration 50 / 60) loss: 0.170266\n",
      "(Epoch 25 / 30) train acc: 0.980000; val_acc: 0.216000\n",
      "(Iteration 51 / 60) loss: 0.075319\n",
      "(Iteration 52 / 60) loss: 0.171058\n",
      "(Epoch 26 / 30) train acc: 0.980000; val_acc: 0.220000\n",
      "(Iteration 53 / 60) loss: 0.213067\n",
      "(Iteration 54 / 60) loss: 0.065653\n",
      "(Epoch 27 / 30) train acc: 0.980000; val_acc: 0.218000\n",
      "(Iteration 55 / 60) loss: 0.100315\n",
      "(Iteration 56 / 60) loss: 0.072177\n",
      "(Epoch 28 / 30) train acc: 0.970000; val_acc: 0.206000\n",
      "(Iteration 57 / 60) loss: 0.165401\n",
      "(Iteration 58 / 60) loss: 0.081196\n",
      "(Epoch 29 / 30) train acc: 0.990000; val_acc: 0.198000\n",
      "(Iteration 59 / 60) loss: 0.043942\n",
      "(Iteration 60 / 60) loss: 0.063686\n",
      "(Epoch 30 / 30) train acc: 0.990000; val_acc: 0.206000\n",
      "ThreeLayerLCNNet: 1744.208185s\n"
     ]
    }
   ],
   "source": [
    "np.random.seed(231)\n",
    "\n",
    "num_train = 100\n",
    "small_data = {\n",
    "  'X_train': data['X_train'][:num_train],\n",
    "  'y_train': data['y_train'][:num_train],\n",
    "  'X_val': data['X_val'],\n",
    "  'y_val': data['y_val'],\n",
    "}\n",
    "\n",
    "model = ThreeLayerLCNNet(weight_scale=1e-2)\n",
    "\n",
    "solver = Solver(model, small_data,\n",
    "                num_epochs=30, batch_size=50,\n",
    "                update_rule='adam',\n",
    "                optim_config={\n",
    "                  'learning_rate': 1e-3,\n",
    "                },\n",
    "                verbose=True, print_every=1)\n",
    "t0 = time()\n",
    "solver.train()\n",
    "t1 = time()\n",
    "print('ThreeLayerLCNNet: %fs' % (t1 - t0))"
   ]
  },
  {
   "cell_type": "markdown",
   "id": "39df181f",
   "metadata": {},
   "source": [
    "## Plot\n",
    "Plotting the loss, training accuracy, and validation accuracy should show clear overfitting:"
   ]
  },
  {
   "cell_type": "code",
   "execution_count": 12,
   "id": "1ebcc281",
   "metadata": {},
   "outputs": [
    {
     "data": {
      "image/png": "[encoded data removed]",
      "text/plain": [
       "<Figure size 720x576 with 2 Axes>"
      ]
     },
     "metadata": {
      "needs_background": "light"
     },
     "output_type": "display_data"
    }
   ],
   "source": [
    "plt.subplot(2, 1, 1)\n",
    "plt.plot(solver.loss_history, 'o')\n",
    "plt.xlabel('iteration')\n",
    "plt.ylabel('loss')\n",
    "\n",
    "plt.subplot(2, 1, 2)\n",
    "plt.plot(solver.train_acc_history, '-o')\n",
    "plt.plot(solver.val_acc_history, '-o')\n",
    "plt.legend(['train', 'val'], loc='upper left')\n",
    "plt.xlabel('epoch')\n",
    "plt.ylabel('accuracy')\n",
    "plt.show()"
   ]
  },
  {
   "cell_type": "markdown",
   "id": "f9846c34",
   "metadata": {},
   "source": [
    "## Train the net\n"
   ]
  },
  {
   "cell_type": "code",
   "execution_count": null,
   "id": "38fd1c8a",
   "metadata": {},
   "outputs": [],
   "source": [
    "model = ThreeLayerLCNNet(weight_scale=1e-2, hidden_dim=500, reg=1e-3)\n",
    "\n",
    "solver = Solver(model, data,\n",
    "                num_epochs=2, batch_size=50,\n",
    "                update_rule='adam',\n",
    "                optim_config={\n",
    "                  'learning_rate': 1e-3,\n",
    "                },\n",
    "                verbose=True, print_every=20)\n",
    "t0 = time()\n",
    "solver.train()\n",
    "t1 = time()\n",
    "print('ThreeLayerLCNNet train: %fs' % (t1 - t0))"
   ]
  }
 ],
 "metadata": {
  "kernelspec": {
   "display_name": "Python 3",
   "language": "python",
   "name": "python3"
  },
  "language_info": {
   "codemirror_mode": {
    "name": "ipython",
    "version": 3
   },
   "file_extension": ".py",
   "mimetype": "text/x-python",
   "name": "python",
   "nbconvert_exporter": "python",
   "pygments_lexer": "ipython3",
   "version": "3.6.13"
  }
 },
 "nbformat": 4,
 "nbformat_minor": 5
}
