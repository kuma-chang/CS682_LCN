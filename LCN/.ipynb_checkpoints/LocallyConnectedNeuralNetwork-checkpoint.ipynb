{
 "cells": [
  {
   "cell_type": "markdown",
   "id": "75884e92",
   "metadata": {},
   "source": [
    "# Locally Connected Neural Network\n",
    "\n",
    "Our Final Project\n"
   ]
  },
  {
   "cell_type": "code",
   "execution_count": 1,
   "id": "7553c412",
   "metadata": {},
   "outputs": [],
   "source": [
    "#Use the setup that were given in assignment2/ConolutionNetworks\n",
    "import numpy as np\n",
    "import matplotlib.pyplot as plt\n",
    "from cs682.classifiers.cnn import *\n",
    "from cs682.data_utils import get_CIFAR10_data\n",
    "from cs682.gradient_check import eval_numerical_gradient_array, eval_numerical_gradient\n",
    "from cs682.layers import *\n",
    "from cs682.fast_layers import *\n",
    "from cs682.solver import Solver\n",
    "\n",
    "%matplotlib inline\n",
    "plt.rcParams['figure.figsize'] = (10.0, 8.0) # set default size of plots\n",
    "plt.rcParams['image.interpolation'] = 'nearest'\n",
    "plt.rcParams['image.cmap'] = 'gray'\n",
    "\n",
    "# for auto-reloading external modules\n",
    "# see http://stackoverflow.com/questions/1907993/autoreload-of-modules-in-ipython\n",
    "%load_ext autoreload\n",
    "%autoreload 2\n",
    "\n",
    "def rel_error(x, y):\n",
    "  \"\"\" returns relative error \"\"\"\n",
    "  return np.max(np.abs(x - y) / (np.maximum(1e-8, np.abs(x) + np.abs(y))))"
   ]
  },
  {
   "cell_type": "code",
   "execution_count": 2,
   "id": "097432db",
   "metadata": {},
   "outputs": [
    {
     "name": "stdout",
     "output_type": "stream",
     "text": [
      "X_train:  (49000, 3, 32, 32)\n",
      "y_train:  (49000,)\n",
      "X_val:  (1000, 3, 32, 32)\n",
      "y_val:  (1000,)\n",
      "X_test:  (1000, 3, 32, 32)\n",
      "y_test:  (1000,)\n"
     ]
    }
   ],
   "source": [
    "# Load the (preprocessed) CIFAR10 data.\n",
    "\n",
    "data = get_CIFAR10_data()\n",
    "for k, v in data.items():\n",
    "  print('%s: ' % k, v.shape)"
   ]
  },
  {
   "cell_type": "code",
   "execution_count": 3,
   "id": "d6e5d66b",
   "metadata": {},
   "outputs": [],
   "source": [
    "#Import the layer and net work we implimented\n",
    "from lcn import *\n",
    "from lc_fc_net import *"
   ]
  },
  {
   "cell_type": "markdown",
   "id": "fe64aaf3",
   "metadata": {},
   "source": [
    "# Locally Connected Neural Network: Naive forward pass"
   ]
  },
  {
   "cell_type": "code",
   "execution_count": 32,
   "id": "a9734568",
   "metadata": {},
   "outputs": [
    {
     "name": "stdout",
     "output_type": "stream",
     "text": [
      "[2. 2.] [2. 2.]\n",
      "[[[[-0.09936767 -0.10046236 -0.1046113  -0.10810687 -0.10972791]\n",
      "   [-0.11134542 -0.11576883 -0.12094344 -0.12387884 -0.12204838]\n",
      "   [-0.12782472 -0.13629576 -0.14161451 -0.14274388 -0.13597231]\n",
      "   [-0.13791621 -0.14850785 -0.15318404 -0.15271233 -0.14279329]\n",
      "   [-0.13369889 -0.14232539 -0.14534925 -0.14414403 -0.13532413]]\n",
      "\n",
      "  [[ 0.10450627  0.1176822   0.12286899  0.12155761  0.11052414]\n",
      "   [ 0.12506773  0.14457948  0.15259354  0.15111518  0.13501898]\n",
      "   [ 0.14289456  0.16794219  0.17844032  0.17684455  0.15636646]\n",
      "   [ 0.15609654  0.18506905  0.19710535  0.19551028  0.17187368]\n",
      "   [ 0.15206563  0.17909024  0.19022851  0.18879152  0.1668185 ]]\n",
      "\n",
      "  [[ 0.30838021  0.33582676  0.35034928  0.3512221   0.3307762 ]\n",
      "   [ 0.36148087  0.40492779  0.42613053  0.42610921  0.39208634]\n",
      "   [ 0.41361384  0.47218014  0.49849515  0.49643298  0.44870523]\n",
      "   [ 0.4501093   0.51864594  0.54739475  0.54373289  0.48654064]\n",
      "   [ 0.43783016  0.50050587  0.52580626  0.52172708  0.46896114]]]\n",
      "\n",
      "\n",
      " [[[-0.64629936 -0.7567101  -0.78135516 -0.74371789 -0.62279386]\n",
      "   [-0.72631972 -0.85887523 -0.8874804  -0.84162325 -0.69574923]\n",
      "   [-0.71808374 -0.84960099 -0.87681046 -0.82943324 -0.68298891]\n",
      "   [-0.6497069  -0.76480428 -0.78664167 -0.74364678 -0.61331054]\n",
      "   [-0.51130188 -0.59220592 -0.60588101 -0.57338783 -0.47906138]]\n",
      "\n",
      "  [[ 0.19255719  0.23531151  0.25692049  0.25982365  0.2324408 ]\n",
      "   [ 0.28397048  0.35254782  0.38415158  0.38444552  0.33519518]\n",
      "   [ 0.3634309   0.45273197  0.49152756  0.48825019  0.42014522]\n",
      "   [ 0.41818291  0.51984736  0.56174273  0.55565058  0.47523348]\n",
      "   [ 0.40944525  0.50308676  0.5404921   0.53342477  0.45806386]]\n",
      "\n",
      "  [[ 1.03141374  1.22733313  1.29519614  1.26336518  1.08767547]\n",
      "   [ 1.29426068  1.56397088  1.65578357  1.61051429  1.36613959]\n",
      "   [ 1.44494553  1.75506492  1.85986559  1.80593363  1.52327934]\n",
      "   [ 1.48607271  1.804499    1.91012713  1.85494794  1.5637775 ]\n",
      "   [ 1.33019238  1.59837945  1.68686521  1.64023738  1.3951891 ]]]]\n"
     ]
    }
   ],
   "source": [
    "x_shape = (2, 3, 5, 5)\n",
    "w_shape = (3, 3, 5, 5)\n",
    "x = np.linspace(-0.1, 0.5, num=np.prod(x_shape)).reshape(x_shape)\n",
    "w = np.linspace(-0.2, 0.3, num=np.prod(w_shape)).reshape(w_shape)\n",
    "b = np.linspace(-0.1, 0.2, num=3)\n",
    "\n",
    "\n",
    "lcn_param = {'center_dist': 1}\n",
    "out, _ = lcn_forward(x, w, b, lcn_param)\n",
    "\n"
   ]
  },
  {
   "cell_type": "code",
   "execution_count": null,
   "id": "dccbc002",
   "metadata": {},
   "outputs": [],
   "source": []
  },
  {
   "cell_type": "code",
   "execution_count": 38,
   "id": "589cc852",
   "metadata": {},
   "outputs": [
    {
     "ename": "KeyError",
     "evalue": "'center_dist'",
     "output_type": "error",
     "traceback": [
      "\u001b[0;31m---------------------------------------------------------------------------\u001b[0m",
      "\u001b[0;31mKeyError\u001b[0m                                  Traceback (most recent call last)",
      "\u001b[0;32m<ipython-input-38-097fdbbfaecc>\u001b[0m in \u001b[0;36m<module>\u001b[0;34m\u001b[0m\n\u001b[1;32m     10\u001b[0m \u001b[0mdb_num\u001b[0m \u001b[0;34m=\u001b[0m \u001b[0meval_numerical_gradient_array\u001b[0m\u001b[0;34m(\u001b[0m\u001b[0;32mlambda\u001b[0m \u001b[0mb\u001b[0m\u001b[0;34m:\u001b[0m \u001b[0mlcn_forward\u001b[0m\u001b[0;34m(\u001b[0m\u001b[0mx\u001b[0m\u001b[0;34m,\u001b[0m \u001b[0mw\u001b[0m\u001b[0;34m,\u001b[0m \u001b[0mb\u001b[0m\u001b[0;34m,\u001b[0m \u001b[0mlcn_param\u001b[0m\u001b[0;34m)\u001b[0m\u001b[0;34m[\u001b[0m\u001b[0;36m0\u001b[0m\u001b[0;34m]\u001b[0m\u001b[0;34m,\u001b[0m \u001b[0mb\u001b[0m\u001b[0;34m,\u001b[0m \u001b[0mdout\u001b[0m\u001b[0;34m)\u001b[0m\u001b[0;34m\u001b[0m\u001b[0;34m\u001b[0m\u001b[0m\n\u001b[1;32m     11\u001b[0m \u001b[0;34m\u001b[0m\u001b[0m\n\u001b[0;32m---> 12\u001b[0;31m \u001b[0mout\u001b[0m\u001b[0;34m,\u001b[0m \u001b[0mcache\u001b[0m \u001b[0;34m=\u001b[0m \u001b[0mlcn_forward\u001b[0m\u001b[0;34m(\u001b[0m\u001b[0mx\u001b[0m\u001b[0;34m,\u001b[0m \u001b[0mw\u001b[0m\u001b[0;34m,\u001b[0m \u001b[0mb\u001b[0m\u001b[0;34m,\u001b[0m \u001b[0mconv_param\u001b[0m\u001b[0;34m)\u001b[0m\u001b[0;34m\u001b[0m\u001b[0;34m\u001b[0m\u001b[0m\n\u001b[0m\u001b[1;32m     13\u001b[0m \u001b[0mdx\u001b[0m\u001b[0;34m,\u001b[0m \u001b[0mdw\u001b[0m\u001b[0;34m,\u001b[0m \u001b[0mdb\u001b[0m \u001b[0;34m=\u001b[0m \u001b[0mlcn_backward\u001b[0m\u001b[0;34m(\u001b[0m\u001b[0mdout\u001b[0m\u001b[0;34m,\u001b[0m \u001b[0mcache\u001b[0m\u001b[0;34m)\u001b[0m\u001b[0;34m\u001b[0m\u001b[0;34m\u001b[0m\u001b[0m\n\u001b[1;32m     14\u001b[0m \u001b[0;34m\u001b[0m\u001b[0m\n",
      "\u001b[0;32m~/CS682_Neural_Networks_Modern_Intro/CS682_LCN/LCN/lcn.py\u001b[0m in \u001b[0;36mlcn_forward\u001b[0;34m(x, w, b, lcn_param)\u001b[0m\n\u001b[1;32m     21\u001b[0m     \u001b[0;31m# TODO: Implement the locally-connected forward pass.                     #\u001b[0m\u001b[0;34m\u001b[0m\u001b[0;34m\u001b[0m\u001b[0;34m\u001b[0m\u001b[0m\n\u001b[1;32m     22\u001b[0m     \u001b[0;31m###########################################################################\u001b[0m\u001b[0;34m\u001b[0m\u001b[0;34m\u001b[0m\u001b[0;34m\u001b[0m\u001b[0m\n\u001b[0;32m---> 23\u001b[0;31m     \u001b[0mcenter_dist\u001b[0m \u001b[0;34m=\u001b[0m \u001b[0mlcn_param\u001b[0m\u001b[0;34m[\u001b[0m\u001b[0;34m'center_dist'\u001b[0m\u001b[0;34m]\u001b[0m\u001b[0;34m\u001b[0m\u001b[0;34m\u001b[0m\u001b[0m\n\u001b[0m\u001b[1;32m     24\u001b[0m     \u001b[0mN\u001b[0m\u001b[0;34m,\u001b[0m \u001b[0mC\u001b[0m\u001b[0;34m,\u001b[0m \u001b[0mH\u001b[0m\u001b[0;34m,\u001b[0m \u001b[0mW\u001b[0m \u001b[0;34m=\u001b[0m \u001b[0mx\u001b[0m\u001b[0;34m.\u001b[0m\u001b[0mshape\u001b[0m\u001b[0;34m\u001b[0m\u001b[0;34m\u001b[0m\u001b[0m\n\u001b[1;32m     25\u001b[0m     \u001b[0mF\u001b[0m\u001b[0;34m,\u001b[0m \u001b[0m_\u001b[0m\u001b[0;34m,\u001b[0m \u001b[0mHH\u001b[0m\u001b[0;34m,\u001b[0m \u001b[0mWW\u001b[0m \u001b[0;34m=\u001b[0m \u001b[0mw\u001b[0m\u001b[0;34m.\u001b[0m\u001b[0mshape\u001b[0m\u001b[0;34m\u001b[0m\u001b[0;34m\u001b[0m\u001b[0m\n",
      "\u001b[0;31mKeyError\u001b[0m: 'center_dist'"
     ]
    }
   ],
   "source": [
    "np.random.seed(231)\n",
    "x = np.random.randn(4, 3, 5, 5)\n",
    "w = np.random.randn(2, 3, 5, 5)\n",
    "b = np.random.randn(2,)\n",
    "dout = np.random.randn(4, 2, 5, 5)\n",
    "lcn_param = {'center_dist': 1}\n",
    "\n",
    "dx_num = eval_numerical_gradient_array(lambda x: lcn_forward(x, w, b, lcn_param)[0], x, dout)\n",
    "dw_num = eval_numerical_gradient_array(lambda w: lcn_forward(x, w, b, lcn_param)[0], w, dout)\n",
    "db_num = eval_numerical_gradient_array(lambda b: lcn_forward(x, w, b, lcn_param)[0], b, dout)\n",
    "\n",
    "out, cache = lcn_forward(x, w, b, lcn_param)\n",
    "dx, dw, db = lcn_backward(dout, cache)\n",
    "\n",
    "# Your errors should be around e-8 or less.\n",
    "print('Testing conv_backward_naive function')\n",
    "print('dx error: ', rel_error(dx, dx_num))\n",
    "print('dw error: ', rel_error(dw, dw_num))\n",
    "print('db error: ', rel_error(db, db_num))"
   ]
  },
  {
   "cell_type": "code",
   "execution_count": null,
   "id": "bcdbf979",
   "metadata": {},
   "outputs": [],
   "source": []
  }
 ],
 "metadata": {
  "kernelspec": {
   "display_name": "Python 3",
   "language": "python",
   "name": "python3"
  },
  "language_info": {
   "codemirror_mode": {
    "name": "ipython",
    "version": 3
   },
   "file_extension": ".py",
   "mimetype": "text/x-python",
   "name": "python",
   "nbconvert_exporter": "python",
   "pygments_lexer": "ipython3",
   "version": "3.6.13"
  }
 },
 "nbformat": 4,
 "nbformat_minor": 5
}
